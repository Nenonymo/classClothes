{
 "cells": [
  {
   "cell_type": "code",
   "execution_count": null,
   "id": "c794d0be",
   "metadata": {},
   "outputs": [],
   "source": [
    "!pip install numpy"
   ]
  },
  {
   "cell_type": "code",
   "execution_count": null,
   "id": "8b481655",
   "metadata": {},
   "outputs": [],
   "source": [
    "!pip install matplotlib"
   ]
  },
  {
   "cell_type": "code",
   "execution_count": null,
   "id": "691d96d3",
   "metadata": {},
   "outputs": [],
   "source": [
    "!pip install tensorflow"
   ]
  },
  {
   "cell_type": "code",
   "execution_count": null,
   "id": "ab934a0b",
   "metadata": {},
   "outputs": [],
   "source": [
    "!pip install ipython"
   ]
  },
  {
   "cell_type": "code",
   "execution_count": null,
   "id": "ad26197a",
   "metadata": {
    "scrolled": true
   },
   "outputs": [],
   "source": [
    "!pip install -q -U keras-tuner"
   ]
  },
  {
   "cell_type": "code",
   "execution_count": null,
   "id": "11d1cce8",
   "metadata": {},
   "outputs": [],
   "source": [
    "!pip install pyyaml h5py "
   ]
  },
  {
   "cell_type": "code",
   "execution_count": null,
   "id": "02558074",
   "metadata": {},
   "outputs": [],
   "source": [
    "import numpy as np\n",
    "import os\n",
    "import PIL\n",
    "import PIL.Image\n",
    "from matplotlib import pyplot as plt\n",
    "import tensorflow as tf\n",
    "from tensorflow import keras\n",
    "from tensorflow.keras import layers\n",
    "from tensorflow.keras import regularizers\n",
    "import pathlib\n",
    "import shutil\n",
    "import tempfile\n",
    "from IPython import display"
   ]
  },
  {
   "cell_type": "code",
   "execution_count": null,
   "id": "a4a6c199",
   "metadata": {},
   "outputs": [],
   "source": [
    "import keras_tuner as kt"
   ]
  },
  {
   "cell_type": "code",
   "execution_count": null,
   "id": "5f05091a",
   "metadata": {},
   "outputs": [],
   "source": [
    "print(os.getcwd())\n",
    "# Change current directoru to dataset folder structure directory\n",
    "os.chdir('D:\\Load_Data_Category_32')\n",
    "print(os.getcwd())\n",
    "# class names\n",
    "class_names=os.listdir() \n",
    "# no of classes\n",
    "num_class= len(class_names)\n",
    "print(class_names)\n",
    "print(num_class)"
   ]
  },
  {
   "cell_type": "code",
   "execution_count": null,
   "id": "5be6f982",
   "metadata": {},
   "outputs": [],
   "source": [
    "img_height=32\n",
    "img_width=32\n",
    "batch_size=32\n",
    "epochs=10"
   ]
  },
  {
   "cell_type": "code",
   "execution_count": null,
   "id": "767bd7ae",
   "metadata": {},
   "outputs": [],
   "source": [
    "train_ds = tf.keras.utils.image_dataset_from_directory(\n",
    "    os.getcwd(),\n",
    "    labels='inferred',\n",
    "    label_mode='int',\n",
    "    class_names= class_names,\n",
    "    color_mode='grayscale',\n",
    "    batch_size=batch_size,\n",
    "    image_size=(img_width,img_width),\n",
    "    shuffle=True,\n",
    "    seed=10,\n",
    "    validation_split=0.1,\n",
    "    subset=\"training\",\n",
    "    interpolation='bilinear',\n",
    "    follow_links=False,\n",
    "    crop_to_aspect_ratio=False,\n",
    ")"
   ]
  },
  {
   "cell_type": "code",
   "execution_count": null,
   "id": "5285eca5",
   "metadata": {
    "scrolled": true
   },
   "outputs": [],
   "source": [
    "plt.figure(figsize=(5,5))\n",
    "for image, label in train_ds.take(1):\n",
    "    for x in range(9):\n",
    "        ax=plt.subplot(3, 3, x+1)\n",
    "        plt.imshow(image[x].numpy().astype(\"uint8\"), cmap='gray')\n",
    "        plt.title(class_names[label[x].numpy()])\n",
    "        plt.axis(\"off\")\n",
    "plt.show()"
   ]
  },
  {
   "cell_type": "code",
   "execution_count": null,
   "id": "cb549f2c",
   "metadata": {},
   "outputs": [],
   "source": [
    "validation_ds = tf.keras.utils.image_dataset_from_directory(\n",
    "    os.getcwd(),\n",
    "    labels='inferred',\n",
    "    label_mode='int',\n",
    "    class_names=class_names,\n",
    "    color_mode='grayscale',\n",
    "    batch_size=batch_size,\n",
    "    image_size=(img_height,img_width),\n",
    "    shuffle=True,\n",
    "    seed=10,\n",
    "    validation_split=0.1,\n",
    "    subset=\"validation\",\n",
    "    interpolation='bilinear',\n",
    "    follow_links=False,\n",
    "    crop_to_aspect_ratio=False,\n",
    ")"
   ]
  },
  {
   "cell_type": "code",
   "execution_count": null,
   "id": "1381bca0",
   "metadata": {},
   "outputs": [],
   "source": [
    "plt.figure(figsize=(5,5))\n",
    "for image, label in validation_ds.take(1):\n",
    "    for x in range(9):\n",
    "        ax=plt.subplot(3, 3, x+1)\n",
    "        plt.imshow(image[x].numpy().astype(\"uint8\"), cmap='gray')\n",
    "        plt.title(class_names[label[x].numpy()])\n",
    "        plt.axis(\"off\")\n",
    "plt.show()"
   ]
  },
  {
   "cell_type": "code",
   "execution_count": null,
   "id": "1ad41a63",
   "metadata": {},
   "outputs": [],
   "source": [
    "AUTOTUNE=tf.data.AUTOTUNE\n",
    "train_ds = train_ds.cache().prefetch(buffer_size=AUTOTUNE)\n",
    "validation_ds = validation_ds.cache().prefetch(buffer_size=AUTOTUNE)"
   ]
  },
  {
   "cell_type": "code",
   "execution_count": null,
   "id": "3cf81d77",
   "metadata": {},
   "outputs": [],
   "source": [
    "data_augmentation = tf.keras.Sequential([\n",
    "            tf.keras.layers.RandomFlip(input_shape=(img_height,img_width,1), mode='horizontal'),\n",
    "            tf.keras.layers.RandomRotation(0.1),\n",
    "])"
   ]
  },
  {
   "cell_type": "code",
   "execution_count": null,
   "id": "05495b83",
   "metadata": {},
   "outputs": [],
   "source": [
    "def build_model(hp):\n",
    "    \n",
    "    units_1 = hp.Int('units_1',min_value=32, max_value=512, step=32)\n",
    "    units_2 = hp.Int('units_2',min_value=32, max_value=512, step=32)\n",
    "    units_3 = hp.Int('units_3',min_value=32, max_value=512, step=32)\n",
    "    units_4 = hp.Int('units_4',min_value=32, max_value=512, step=32)\n",
    "    \n",
    "    units_5 = hp.Int('units_5',min_value=32, max_value=512, step=32)\n",
    "    units_6 = hp.Int('units_6',min_value=32, max_value=512, step=32)\n",
    "    \n",
    "    dropout_1 = hp.Boolean('dropout_1')\n",
    "    dropout_2 = hp.Boolean('dropout_2')\n",
    "    dropout_3 = hp.Boolean('dropout_3')\n",
    "    \n",
    "    lr = hp.Float('lr', min_value=1e-4, max_value=1e-2, sampling='log')\n",
    "    \n",
    "    model = tf.keras.Sequential()\n",
    "    model.add(data_augmentation)\n",
    "    model.add(tf.keras.layers.Rescaling(1./255, input_shape=(img_height, img_width, 1)))\n",
    "    model.add(tf.keras.layers.Conv2D(units_1, 3, activation='relu'))\n",
    "    model.add(tf.keras.layers.BatchNormalization())\n",
    "    model.add(tf.keras.layers.Conv2D(units_2, 3, activation='relu'))\n",
    "    model.add(tf.keras.layers.MaxPooling2D())\n",
    "    if dropout_1:\n",
    "        model.add(tf.keras.layers.Dropout(0.2))\n",
    "    model.add(tf.keras.layers.Conv2D(units_3, 3, activation='relu'))\n",
    "    model.add(tf.keras.layers.BatchNormalization())\n",
    "    model.add(tf.keras.layers.Conv2D(units_4, 3, activation='relu'))\n",
    "    model.add(tf.keras.layers.MaxPooling2D())\n",
    "    if dropout_2:\n",
    "        model.add(tf.keras.layers.Dropout(0.2))\n",
    "\n",
    "    model.add(tf.keras.layers.Flatten())\n",
    "    model.add(tf.keras.layers.Dense(units=units_5, kernel_regularizer=regularizers.l2(0.0001), activation='relu'))\n",
    "    if dropout_3:\n",
    "        model.add(tf.keras.layers.Dropout(0.2)) \n",
    "    model.add(tf.keras.layers.Dense(units=units_6, kernel_regularizer=regularizers.l2(0.0001), activation='relu'))\n",
    "    model.add(tf.keras.layers.Dense(num_class, activation='softmax'))\n",
    "    \n",
    "    model.compile(\n",
    "    optimizer=tf.keras.optimizers.Adam(learning_rate=lr),\n",
    "    loss=tf.keras.losses.SparseCategoricalCrossentropy(from_logits=True),\n",
    "    metrics=['accuracy'],\n",
    "    )\n",
    "    \n",
    "    return model"
   ]
  },
  {
   "cell_type": "code",
   "execution_count": null,
   "id": "d160d76a",
   "metadata": {},
   "outputs": [],
   "source": [
    "build_model(kt.HyperParameters())"
   ]
  },
  {
   "cell_type": "code",
   "execution_count": null,
   "id": "435003a9",
   "metadata": {},
   "outputs": [],
   "source": [
    "tuner=kt.RandomSearch(\n",
    "                  hypermodel=build_model,\n",
    "                  objective=\"val_accuracy\",\n",
    "                  max_trials=5,\n",
    "                  executions_per_trial=1,\n",
    "                  overwrite=True,\n",
    "                  directory='D:\\Robotics\\Tuner_Results',\n",
    "                  project_name=\"Test_01\",\n",
    ")"
   ]
  },
  {
   "cell_type": "code",
   "execution_count": null,
   "id": "09b68025",
   "metadata": {},
   "outputs": [],
   "source": [
    "tuner.search_space_summary()"
   ]
  },
  {
   "cell_type": "code",
   "execution_count": null,
   "id": "c0260b85",
   "metadata": {},
   "outputs": [],
   "source": [
    "stop_early=tf.keras.callbacks.EarlyStopping(monitor='val_loss', patience=5)"
   ]
  },
  {
   "cell_type": "code",
   "execution_count": null,
   "id": "b96ecfa5",
   "metadata": {
    "scrolled": true
   },
   "outputs": [],
   "source": [
    "tuner.search(train_ds, epochs=5, validation_data = validation_ds, callbacks=[stop_early])\n"
   ]
  },
  {
   "cell_type": "code",
   "execution_count": null,
   "id": "c644486f",
   "metadata": {},
   "outputs": [],
   "source": [
    "models=tuner.get_best_models(num_models=2)\n",
    "best_model=models[0]\n",
    "best_model.build(input_shape=(None, img_height, img_width))\n",
    "best_model.summary()"
   ]
  },
  {
   "cell_type": "code",
   "execution_count": null,
   "id": "b948f139",
   "metadata": {},
   "outputs": [],
   "source": [
    "tuner.results_summary()"
   ]
  }
 ],
 "metadata": {
  "kernelspec": {
   "display_name": "Python 3 (ipykernel)",
   "language": "python",
   "name": "python3"
  },
  "language_info": {
   "codemirror_mode": {
    "name": "ipython",
    "version": 3
   },
   "file_extension": ".py",
   "mimetype": "text/x-python",
   "name": "python",
   "nbconvert_exporter": "python",
   "pygments_lexer": "ipython3",
   "version": "3.10.0"
  }
 },
 "nbformat": 4,
 "nbformat_minor": 5
}
