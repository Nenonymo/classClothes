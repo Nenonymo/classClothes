{
 "cells": [
  {
   "cell_type": "markdown",
   "id": "47ae2052",
   "metadata": {},
   "source": [
    "### Input Libraries"
   ]
  },
  {
   "cell_type": "code",
   "execution_count": null,
   "id": "4148de4d",
   "metadata": {
    "scrolled": true
   },
   "outputs": [],
   "source": [
    "!pip install numpy"
   ]
  },
  {
   "cell_type": "code",
   "execution_count": null,
   "id": "0e9fe525",
   "metadata": {},
   "outputs": [],
   "source": [
    "!pip install matplotlib"
   ]
  },
  {
   "cell_type": "code",
   "execution_count": null,
   "id": "5b354d36",
   "metadata": {},
   "outputs": [],
   "source": [
    "!pip install tensorflow"
   ]
  },
  {
   "cell_type": "code",
   "execution_count": null,
   "id": "8ce9aee5",
   "metadata": {},
   "outputs": [],
   "source": [
    "!pip install git+https://github.com/tensorflow/docs"
   ]
  },
  {
   "cell_type": "code",
   "execution_count": null,
   "id": "8b0bcc55",
   "metadata": {
    "scrolled": true
   },
   "outputs": [],
   "source": [
    "!pip install ipython"
   ]
  },
  {
   "cell_type": "code",
   "execution_count": null,
   "id": "d91bc857",
   "metadata": {
    "scrolled": true
   },
   "outputs": [],
   "source": [
    "# Required to save models in HDF5 format\n",
    "!pip install pyyaml h5py  "
   ]
  },
  {
   "cell_type": "code",
   "execution_count": null,
   "id": "9604a147",
   "metadata": {},
   "outputs": [],
   "source": [
    "import numpy as np\n",
    "import os\n",
    "import PIL\n",
    "import PIL.Image\n",
    "from matplotlib import pyplot as plt\n",
    "import tensorflow as tf\n",
    "from tensorflow import keras\n",
    "from tensorflow.keras import layers\n",
    "from tensorflow.keras import regularizers\n",
    "import tensorflow_docs as tfdocs\n",
    "import tensorflow_docs.modeling\n",
    "import tensorflow_docs.plots\n",
    "import pathlib\n",
    "import shutil\n",
    "import tempfile\n",
    "from IPython import display"
   ]
  },
  {
   "cell_type": "code",
   "execution_count": null,
   "id": "50872750",
   "metadata": {
    "scrolled": true
   },
   "outputs": [],
   "source": [
    "print(os.getcwd())\n",
    "# Change current directoru to dataset folder structure directory\n",
    "os.chdir('G:\\ML\\Load_Data_Category_180')\n",
    "print(os.getcwd())\n",
    "# class names\n",
    "class_names=os.listdir() \n",
    "# no of classes\n",
    "num_class= len(class_names)\n",
    "print(class_names)\n",
    "print(num_class)"
   ]
  },
  {
   "cell_type": "code",
   "execution_count": null,
   "id": "737e2eb7",
   "metadata": {},
   "outputs": [],
   "source": [
    "img_height=180\n",
    "img_width=180\n",
    "batch_size=32\n",
    "epochs=1000"
   ]
  },
  {
   "cell_type": "markdown",
   "id": "7eada091",
   "metadata": {},
   "source": [
    "# Build Input Pipeline\n",
    "## Tensorflow Training dataset"
   ]
  },
  {
   "cell_type": "code",
   "execution_count": null,
   "id": "efd39078",
   "metadata": {
    "scrolled": true
   },
   "outputs": [],
   "source": [
    "train_ds = tf.keras.utils.image_dataset_from_directory(\n",
    "    os.getcwd(),\n",
    "    labels='inferred',\n",
    "    label_mode='int',\n",
    "    class_names= class_names,\n",
    "    color_mode='grayscale',\n",
    "    batch_size=batch_size,\n",
    "    image_size=(img_width,img_width),\n",
    "    shuffle=True,\n",
    "    seed=100,\n",
    "    validation_split=0.2,\n",
    "    subset=\"training\",\n",
    "    interpolation='bilinear',\n",
    "    follow_links=False,\n",
    "    crop_to_aspect_ratio=False,\n",
    ")"
   ]
  },
  {
   "cell_type": "code",
   "execution_count": null,
   "id": "c5275230",
   "metadata": {},
   "outputs": [],
   "source": [
    "train_ds"
   ]
  },
  {
   "cell_type": "code",
   "execution_count": null,
   "id": "f386e941",
   "metadata": {},
   "outputs": [],
   "source": [
    "for ima, lab in train_ds.take(1):\n",
    "    for x in lab:\n",
    "        print(x.numpy())"
   ]
  },
  {
   "cell_type": "markdown",
   "id": "5a4b763b",
   "metadata": {},
   "source": [
    "## Visualize training data sample"
   ]
  },
  {
   "cell_type": "code",
   "execution_count": null,
   "id": "5aff5d51",
   "metadata": {},
   "outputs": [],
   "source": [
    "plt.figure(figsize=(10,10))\n",
    "for image, label in train_ds.take(1):\n",
    "    for x in range(9):\n",
    "        ax=plt.subplot(3, 3, x+1)\n",
    "        plt.imshow(image[x].numpy().astype(\"uint8\"), cmap='gray')\n",
    "        plt.title(class_names[label[x].numpy()])\n",
    "        plt.axis(\"off\")\n",
    "plt.show()"
   ]
  },
  {
   "cell_type": "markdown",
   "id": "e3e842a7",
   "metadata": {},
   "source": [
    "## Tensorflow Validation dataset"
   ]
  },
  {
   "cell_type": "code",
   "execution_count": null,
   "id": "59f00355",
   "metadata": {
    "scrolled": true
   },
   "outputs": [],
   "source": [
    "validation_ds = tf.keras.utils.image_dataset_from_directory(\n",
    "    os.getcwd(),\n",
    "    labels='inferred',\n",
    "    label_mode='int',\n",
    "    class_names=class_names,\n",
    "    color_mode='grayscale',\n",
    "    batch_size=batch_size,\n",
    "    image_size=(img_height,img_width),\n",
    "    shuffle=True,\n",
    "    seed=100,\n",
    "    validation_split=0.2,\n",
    "    subset=\"validation\",\n",
    "    interpolation='bilinear',\n",
    "    follow_links=False,\n",
    "    crop_to_aspect_ratio=False,\n",
    ")"
   ]
  },
  {
   "cell_type": "code",
   "execution_count": null,
   "id": "f4474341",
   "metadata": {
    "scrolled": true
   },
   "outputs": [],
   "source": [
    "validation_ds"
   ]
  },
  {
   "cell_type": "markdown",
   "id": "fa91667a",
   "metadata": {},
   "source": [
    "## Visualize validation data sample"
   ]
  },
  {
   "cell_type": "code",
   "execution_count": null,
   "id": "f5b2f243",
   "metadata": {},
   "outputs": [],
   "source": [
    "plt.figure(figsize=(10,10))\n",
    "for image, label in validation_ds.take(1):\n",
    "    for x in range(9):\n",
    "        ax=plt.subplot(3, 3, x+1)\n",
    "        plt.imshow(image[x].numpy().astype(\"uint8\"), cmap='gray')\n",
    "        plt.title(class_names[label[x].numpy()])\n",
    "        plt.axis(\"off\")\n",
    "plt.show()"
   ]
  },
  {
   "cell_type": "markdown",
   "id": "100ce37d",
   "metadata": {},
   "source": [
    "## Configure the dataset for performance"
   ]
  },
  {
   "cell_type": "code",
   "execution_count": null,
   "id": "fc8b66a1",
   "metadata": {},
   "outputs": [],
   "source": [
    "AUTOTUNE=tf.data.AUTOTUNE\n",
    "train_ds = train_ds.cache().prefetch(buffer_size=AUTOTUNE)\n",
    "validation_ds = validation_ds.cache().prefetch(buffer_size=AUTOTUNE)"
   ]
  },
  {
   "cell_type": "markdown",
   "id": "cdfd862d",
   "metadata": {},
   "source": [
    "## Data Augumentation"
   ]
  },
  {
   "cell_type": "code",
   "execution_count": null,
   "id": "24f8e090",
   "metadata": {},
   "outputs": [],
   "source": [
    "data_augmentation = tf.keras.Sequential([\n",
    "            tf.keras.layers.RandomFlip(input_shape=(img_height, img_width, 1)),\n",
    "            tf.keras.layers.RandomRotation(0.1),\n",
    "            tf.keras.layers.RandomZoom(0.1),\n",
    "])"
   ]
  },
  {
   "cell_type": "markdown",
   "id": "df9da81f",
   "metadata": {},
   "source": [
    "## Visualize data augmented sample"
   ]
  },
  {
   "cell_type": "code",
   "execution_count": null,
   "id": "85a929d6",
   "metadata": {
    "scrolled": false
   },
   "outputs": [],
   "source": [
    "plt.figure(figsize=(10,10))\n",
    "for image, label in train_ds.take(1):\n",
    "    for x in range(9):\n",
    "        augemented_images=data_augmentation(image, training=True)\n",
    "        ax=plt.subplot(3, 3, x+1)\n",
    "        plt.imshow(augemented_images[1].numpy().astype(\"uint8\"), cmap='gray')\n",
    "        plt.title(class_names[label[1].numpy()])\n",
    "        plt.axis(\"off\")\n",
    "plt.show()"
   ]
  },
  {
   "cell_type": "code",
   "execution_count": null,
   "id": "83043f10",
   "metadata": {},
   "outputs": [],
   "source": [
    "\n",
    "augemented_train_ds=train_ds.map(\n",
    "lambda x,y: (data_augmentation(x, training=True),y))\n"
   ]
  },
  {
   "cell_type": "markdown",
   "id": "30759111",
   "metadata": {},
   "source": [
    "### Learning rate scheduler"
   ]
  },
  {
   "cell_type": "code",
   "execution_count": null,
   "id": "e5db02f9",
   "metadata": {},
   "outputs": [],
   "source": [
    "def scheduler(epoch, lr):\n",
    "    if epoch < 10:\n",
    "        return lr\n",
    "    else:\n",
    "        return lr * tf.math.exp(-0.1)"
   ]
  },
  {
   "cell_type": "markdown",
   "id": "b5d224e3",
   "metadata": {},
   "source": [
    "### Early stopping and learning rate callbacks"
   ]
  },
  {
   "cell_type": "code",
   "execution_count": null,
   "id": "b6cbac01",
   "metadata": {
    "scrolled": true
   },
   "outputs": [],
   "source": [
    "\n",
    "def get_callbacks():\n",
    "    return [\n",
    "    tf.keras.callbacks.EarlyStopping(monitor='val_loss', patience=5),\n",
    "    tf.keras.callbacks.LearningRateScheduler(scheduler)\n",
    "    ]\n"
   ]
  },
  {
   "cell_type": "markdown",
   "id": "8859a081",
   "metadata": {},
   "source": [
    "# Build the Model\n",
    "## Set up the Model Layers"
   ]
  },
  {
   "cell_type": "code",
   "execution_count": null,
   "id": "3ab73807",
   "metadata": {},
   "outputs": [],
   "source": [
    "model = tf.keras.Sequential([\n",
    "          data_augmentation,\n",
    "          tf.keras.layers.Rescaling(1./255, input_shape=(img_height, img_width, 1)),\n",
    "          tf.keras.layers.Conv2D(32, 3, activation='relu'),\n",
    "          tf.keras.layers.Conv2D(32, 3, activation='relu'),\n",
    "          tf.keras.layers.MaxPooling2D(),\n",
    "          tf.keras.layers.Dropout(0.2),\n",
    "          tf.keras.layers.Conv2D(32, 3, activation='relu'),\n",
    "          tf.keras.layers.Conv2D(32, 3, activation='relu'),\n",
    "          tf.keras.layers.MaxPooling2D(),\n",
    "          tf.keras.layers.Dropout(0.2),\n",
    "          tf.keras.layers.Conv2D(32, 3, activation='relu'),\n",
    "          tf.keras.layers.Conv2D(32, 3, activation='relu'),\n",
    "          tf.keras.layers.MaxPooling2D(),\n",
    "          tf.keras.layers.Dropout(0.2),\n",
    "          tf.keras.layers.Flatten(),\n",
    "          tf.keras.layers.Dense(128, kernel_regularizer=regularizers.l2(0.0001), activation='relu'),\n",
    "          tf.keras.layers.Dropout(0.2),\n",
    "          tf.keras.layers.Dense(128, kernel_regularizer=regularizers.l2(0.0001), activation='relu'),\n",
    "          tf.keras.layers.Dense(num_class, activation='softmax')\n",
    "          ])"
   ]
  },
  {
   "cell_type": "code",
   "execution_count": null,
   "id": "59f7a9a8",
   "metadata": {
    "scrolled": true
   },
   "outputs": [],
   "source": [
    "# Display the model's architecture\n",
    "\n",
    "model.summary()"
   ]
  },
  {
   "cell_type": "code",
   "execution_count": null,
   "id": "b069a895",
   "metadata": {},
   "outputs": [],
   "source": [
    "model.compile(optimizer='Adam',\n",
    "              loss=tf.keras.losses.SparseCategoricalCrossentropy(from_logits=True),\n",
    "              metrics=['accuracy'])"
   ]
  },
  {
   "cell_type": "code",
   "execution_count": null,
   "id": "03604ecd",
   "metadata": {
    "scrolled": false
   },
   "outputs": [],
   "source": [
    "\n",
    "history = model.fit(train_ds, validation_data = validation_ds, epochs=epochs, callbacks=get_callbacks())"
   ]
  },
  {
   "cell_type": "markdown",
   "id": "09c8f02d",
   "metadata": {},
   "source": [
    "## Visualize the training results"
   ]
  },
  {
   "cell_type": "code",
   "execution_count": null,
   "id": "d992950a",
   "metadata": {
    "scrolled": true
   },
   "outputs": [],
   "source": [
    "train_acc = history.history['accuracy']\n",
    "val_acc = history.history['val_accuracy']\n",
    "train_loss = history.history['loss'] \n",
    "val_loss = history.history['val_loss']\n",
    "#epochs_range = range(epochs)\n",
    "epochs_range = range(len(val_acc))\n",
    "plt.figure(figsize=(10, 10))\n",
    "plt.subplot(2, 2, 1)\n",
    "plt.plot(epochs_range, train_acc, label= 'Training Accuracy')\n",
    "plt.plot(epochs_range, val_acc, label= 'Validation Accuracy')\n",
    "#loc='lower right'\n",
    "plt.legend()\n",
    "plt.title('Training and validation Accuracy')\n",
    "\n",
    "plt.subplot(2, 2, 2)\n",
    "plt.plot(epochs_range, train_loss, label='Training Loss')\n",
    "plt.plot(epochs_range, val_loss, label='Validation Loss')\n",
    "#loc='Upper right'\n",
    "plt.legend()\n",
    "plt.title('Training and Validation Loss')\n",
    "plt.show()"
   ]
  },
  {
   "cell_type": "code",
   "execution_count": null,
   "id": "ef3041a9",
   "metadata": {},
   "outputs": [],
   "source": [
    "best_epoch= val_acc.index(max(val_acc))+1\n",
    "print('Best epoch value',best_epoch)\n",
    "best_train_accuracy=max(train_acc)*100\n",
    "print('Maxium train accuracy',best_train_accuracy)\n",
    "best_val_accuracy=max(val_acc)*100\n",
    "print('Maxium validation accuracy',best_val_accuracy)"
   ]
  },
  {
   "cell_type": "markdown",
   "id": "29e81280",
   "metadata": {},
   "source": [
    "### Save the model"
   ]
  },
  {
   "cell_type": "code",
   "execution_count": null,
   "id": "191a3251",
   "metadata": {},
   "outputs": [],
   "source": [
    "#Manually save weights\n",
    "# Save the weights\n",
    "# Change directory\n",
    "model.save_weights('D:\\ModelOutputs\\checkpoints\\FD_Good_01')\n"
   ]
  },
  {
   "cell_type": "code",
   "execution_count": null,
   "id": "1dac607b",
   "metadata": {
    "scrolled": false
   },
   "outputs": [],
   "source": [
    "#Save model\n",
    "# Change directory\n",
    "model.save('D:\\ModelOutputs\\saved_model\\FD_Good_01')\n"
   ]
  },
  {
   "cell_type": "code",
   "execution_count": null,
   "id": "2615d01b",
   "metadata": {},
   "outputs": [],
   "source": [
    "probability_model = tf.keras.Sequential([model, \n",
    "                                         tf.keras.layers.Softmax()])\n",
    "\n",
    "predictions = probability_model.predict(validation_ds.take(1))\n"
   ]
  },
  {
   "cell_type": "markdown",
   "id": "c91c0984",
   "metadata": {},
   "source": [
    "### Verify and plot the predictions"
   ]
  },
  {
   "cell_type": "code",
   "execution_count": null,
   "id": "1f684987",
   "metadata": {},
   "outputs": [],
   "source": [
    "# Plot the first X test images, their predicted labels, and the true labels.\n",
    "# Color correct predictions in blue and incorrect predictions in red.\n",
    "\n",
    "num_rows = 5\n",
    "num_cols = 3\n",
    "num_images = num_rows*num_cols\n",
    "plt.figure(figsize=(2*2*num_cols, 2*num_rows))\n",
    "\n",
    "for image, label in validation_ds.take(1):\n",
    "    for x in range(num_images):\n",
    "            predicted_label = np.argmax(predictions[x])\n",
    "            true_label=label[x].numpy()\n",
    "            \n",
    "            if predicted_label == true_label:\n",
    "                color = 'blue'\n",
    "            else:\n",
    "                color = 'red'\n",
    "                \n",
    "            plt.subplot(num_rows, 2*num_cols, 2*x+1)\n",
    "            plt.grid(False)\n",
    "            plt.xticks([])\n",
    "            plt.yticks([])\n",
    "\n",
    "            plt.imshow(image[x].numpy().astype(\"uint8\"), cmap='gray')\n",
    "            plt.xlabel(\"{} {:2.0f}% ({})\".format(class_names[predicted_label],\n",
    "                                100*np.max(predictions[x]),\n",
    "                                class_names[true_label]),\n",
    "                                color=color)\n",
    "            plt.subplot(num_rows, 2*num_cols, 2*x+2)\n",
    "            plt.grid(False)\n",
    "            plt.xticks(range(num_class))\n",
    "            plt.yticks([])\n",
    "            #plt.xlabel(label[x].numpy())\n",
    "            thisplot = plt.bar(range(num_class), predictions[x], color=\"#777777\")\n",
    "            plt.ylim([0, 1])\n",
    "            thisplot[predicted_label].set_color('red')\n",
    "            thisplot[true_label].set_color('blue')\n",
    "            #plt.axis(\"off\")\n",
    "plt.tight_layout()\n",
    "plt.show()\n"
   ]
  }
 ],
 "metadata": {
  "kernelspec": {
   "display_name": "Python 3 (ipykernel)",
   "language": "python",
   "name": "python3"
  },
  "language_info": {
   "codemirror_mode": {
    "name": "ipython",
    "version": 3
   },
   "file_extension": ".py",
   "mimetype": "text/x-python",
   "name": "python",
   "nbconvert_exporter": "python",
   "pygments_lexer": "ipython3",
   "version": "3.10.0"
  }
 },
 "nbformat": 4,
 "nbformat_minor": 5
}
