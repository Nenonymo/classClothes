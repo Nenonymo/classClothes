{
 "cells": [
  {
   "cell_type": "code",
   "execution_count": 1,
   "metadata": {},
   "outputs": [],
   "source": [
    "import os\n",
    "\n",
    "\n",
    "#paths\n",
    "IMAGES_PATH = \"../../data/Datasets_Enhancy/datasets/\"\n",
    "ANNOT_PATH = \"../../extra/batch/batch1\" #small batch of 5000 files\n",
    "ANNOT_PATH = \"../../extra/clean_export.dat\"\n",
    "MODEL_PATH = \"bboxRegressor.h5\"\n",
    "PLOT_PATH = \"../../Tmp/plot.png\"\n",
    "TEST_FILENAMES = \"test_files.txt\"\n",
    "\n",
    "#hyperparameters\n",
    "INIT_LR = 1e-4\n",
    "NUM_EPOCHS = 5\n",
    "BATCH_SIZE = 32\n"
   ]
  },
  {
   "cell_type": "code",
   "execution_count": 2,
   "metadata": {},
   "outputs": [
    {
     "name": "stderr",
     "output_type": "stream",
     "text": [
      "2022-05-19 12:08:37.820831: I tensorflow/core/util/util.cc:169] oneDNN custom operations are on. You may see slightly different numerical results due to floating-point round-off errors from different computation orders. To turn them off, set the environment variable `TF_ENABLE_ONEDNN_OPTS=0`.\n",
      "2022-05-19 12:08:37.862263: W tensorflow/stream_executor/platform/default/dso_loader.cc:64] Could not load dynamic library 'libcudart.so.11.0'; dlerror: libcudart.so.11.0: cannot open shared object file: No such file or directory\n",
      "2022-05-19 12:08:37.862296: I tensorflow/stream_executor/cuda/cudart_stub.cc:29] Ignore above cudart dlerror if you do not have a GPU set up on your machine.\n"
     ]
    }
   ],
   "source": [
    "from tensorflow.keras.applications import VGG16\n",
    "from tensorflow.keras.layers import Flatten\n",
    "from tensorflow.keras.layers import Dense\n",
    "from tensorflow.keras.layers import Input\n",
    "from tensorflow.keras.models import Model\n",
    "from tensorflow.keras.optimizers import Adam\n",
    "from tensorflow.keras.preprocessing.image import img_to_array\n",
    "from tensorflow.keras.preprocessing.image import load_img\n",
    "from sklearn.model_selection import train_test_split\n",
    "import matplotlib.pyplot as plt\n",
    "import numpy as np\n",
    "import cv2\n",
    "from magic import from_file\n",
    "import re\n",
    "\n",
    "TF_ENABLE_ONEDNN_OPTS=0"
   ]
  },
  {
   "cell_type": "code",
   "execution_count": 3,
   "metadata": {},
   "outputs": [],
   "source": [
    "import get_image_size as gis"
   ]
  },
  {
   "cell_type": "code",
   "execution_count": 4,
   "metadata": {},
   "outputs": [
    {
     "name": "stdout",
     "output_type": "stream",
     "text": [
      "[INFO] loading dataset...\n"
     ]
    }
   ],
   "source": [
    "# load the contents of the CSV annotations file\n",
    "print(\"[INFO] loading dataset...\")\n",
    "rows = open(ANNOT_PATH).read().strip().split(\"\\n\")\n",
    "# initialize the list of data (images), our target output predictions\n",
    "# (bounding box coordinates), along with the filenames of the\n",
    "# individual images\n",
    "data = []\n",
    "targets = []\n",
    "filenames = []"
   ]
  },
  {
   "cell_type": "code",
   "execution_count": 5,
   "metadata": {},
   "outputs": [
    {
     "name": "stdout",
     "output_type": "stream",
     "text": [
      "5000\n",
      "100.00% left\n",
      "90.00% left\n",
      "80.00% left\n",
      "70.00% left\n",
      "60.00% left\n",
      "50.00% left\n",
      "40.00% left\n",
      "30.00% left\n",
      "20.00% left\n",
      "10.00% left\n",
      "done\n"
     ]
    }
   ],
   "source": [
    "# loop over the rows\n",
    "imageAmount = int(rows[0])\n",
    "print(imageAmount)\n",
    "for (i, row) in enumerate(rows[1:]):\n",
    "    try:\n",
    "        if (i % int(imageAmount/10) == 0): print(\"{:.2f}% left\".format(100-(i/(imageAmount/100))))\n",
    "        # break the row into the filename and bounding box coordinates\n",
    "        row = row.split(\" \")\n",
    "        filename = row[1]\n",
    "        startX, startY, endX, endY = row[2], row[3], row[6], row[7]\n",
    "\n",
    "        #Open the file\n",
    "        imagePath = os.path.sep.join([IMAGES_PATH, filename])\n",
    "        (w, h) = gis.get_image_size(imagePath)\n",
    "\n",
    "        #normalize bbox\n",
    "        startX = float(startX) / w\n",
    "        startY = float(startY) / h\n",
    "        endX = float(endX) / w\n",
    "        endY = float(endY) / h\n",
    "        \n",
    "        #print(startX, startY, endX, endY)\n",
    "\n",
    "        #load image\n",
    "        image = load_img(imagePath, target_size=(224,224))\n",
    "        image = img_to_array(image)\n",
    "\n",
    "        data.append(image)\n",
    "        targets.append((startX, startY, endX, endY))\n",
    "        filenames.append(filename)\n",
    "    except FileNotFoundError:\n",
    "        print(\"File {} Not Found, entry dropped.\".format(filename))\n",
    "    except:\n",
    "        continue\n",
    "print(\"done\")"
   ]
  },
  {
   "cell_type": "code",
   "execution_count": 6,
   "metadata": {},
   "outputs": [],
   "source": [
    "#convert data to np array and [0, 1] value\n",
    "data = np.array(data, dtype=\"float32\") / 255.0\n",
    "targets = np.array(targets, dtype=\"float32\")"
   ]
  },
  {
   "cell_type": "code",
   "execution_count": 7,
   "metadata": {},
   "outputs": [
    {
     "name": "stdout",
     "output_type": "stream",
     "text": [
      "[INFO] saving testing filenames...\n"
     ]
    }
   ],
   "source": [
    "#partition data into training test and validate\n",
    "split = train_test_split(data, targets, filenames, test_size=0.10, random_state=42)\n",
    "\n",
    "#unpack data split\n",
    "(trainImages, testImages) = split[:2]\n",
    "(trainTargets, testTargets) = split[2:4]\n",
    "(trainFilenames, testFilenames) = split[4:]\n",
    "\n",
    "# write test filenames to see the prediction\n",
    "print(\"[INFO] saving testing filenames...\")\n",
    "f = open(TEST_FILENAMES, \"w\")\n",
    "f.write(\"\\n\".join(testFilenames))\n",
    "f.close()"
   ]
  },
  {
   "cell_type": "code",
   "execution_count": 8,
   "metadata": {},
   "outputs": [
    {
     "name": "stderr",
     "output_type": "stream",
     "text": [
      "2022-05-19 12:09:56.852985: W tensorflow/stream_executor/platform/default/dso_loader.cc:64] Could not load dynamic library 'libcuda.so.1'; dlerror: libcuda.so.1: cannot open shared object file: No such file or directory; LD_LIBRARY_PATH: /home/nemoc/.local/lib/python3.10/site-packages/cv2/../../lib64:\n",
      "2022-05-19 12:09:56.853385: W tensorflow/stream_executor/cuda/cuda_driver.cc:269] failed call to cuInit: UNKNOWN ERROR (303)\n",
      "2022-05-19 12:09:56.854060: I tensorflow/stream_executor/cuda/cuda_diagnostics.cc:156] kernel driver does not appear to be running on this host (nemo-lp5065mj): /proc/driver/nvidia/version does not exist\n",
      "2022-05-19 12:09:56.857422: I tensorflow/core/platform/cpu_feature_guard.cc:193] This TensorFlow binary is optimized with oneAPI Deep Neural Network Library (oneDNN) to use the following CPU instructions in performance-critical operations:  AVX2 AVX512F AVX512_VNNI FMA\n",
      "To enable them in other operations, rebuild TensorFlow with the appropriate compiler flags.\n"
     ]
    }
   ],
   "source": [
    "#load the vgg16 network\n",
    "vgg = VGG16(weights=\"imagenet\", include_top=False,\n",
    "    input_tensor=Input(shape=(224,224,3)))\n",
    "\n",
    "#freeze vgg layers\n",
    "vgg.trainable=False\n",
    "\n",
    "#flatten max pooling output\n",
    "flatten = vgg.output\n",
    "flatten = Flatten()(flatten)\n",
    "\n",
    "#construct fully connected header layer to output the predicted bbox\n",
    "bboxHead = Dense(128, activation=\"relu\")(flatten)\n",
    "bboxHead = Dense(64, activation=\"relu\")(bboxHead)\n",
    "bboxHead = Dense(32, activation=\"relu\")(bboxHead)\n",
    "bboxHead = Dense(4, activation=\"relu\")(bboxHead)\n",
    "\n",
    "#Construct model\n",
    "model = Model(inputs=vgg.input, outputs=bboxHead)\n"
   ]
  },
  {
   "cell_type": "code",
   "execution_count": 9,
   "metadata": {},
   "outputs": [
    {
     "name": "stdout",
     "output_type": "stream",
     "text": [
      "Model: \"model\"\n",
      "_________________________________________________________________\n",
      " Layer (type)                Output Shape              Param #   \n",
      "=================================================================\n",
      " input_1 (InputLayer)        [(None, 224, 224, 3)]     0         \n",
      "                                                                 \n",
      " block1_conv1 (Conv2D)       (None, 224, 224, 64)      1792      \n",
      "                                                                 \n",
      " block1_conv2 (Conv2D)       (None, 224, 224, 64)      36928     \n",
      "                                                                 \n",
      " block1_pool (MaxPooling2D)  (None, 112, 112, 64)      0         \n",
      "                                                                 \n",
      " block2_conv1 (Conv2D)       (None, 112, 112, 128)     73856     \n",
      "                                                                 \n",
      " block2_conv2 (Conv2D)       (None, 112, 112, 128)     147584    \n",
      "                                                                 \n",
      " block2_pool (MaxPooling2D)  (None, 56, 56, 128)       0         \n",
      "                                                                 \n",
      " block3_conv1 (Conv2D)       (None, 56, 56, 256)       295168    \n",
      "                                                                 \n",
      " block3_conv2 (Conv2D)       (None, 56, 56, 256)       590080    \n",
      "                                                                 \n",
      " block3_conv3 (Conv2D)       (None, 56, 56, 256)       590080    \n",
      "                                                                 \n",
      " block3_pool (MaxPooling2D)  (None, 28, 28, 256)       0         \n",
      "                                                                 \n",
      " block4_conv1 (Conv2D)       (None, 28, 28, 512)       1180160   \n",
      "                                                                 \n",
      " block4_conv2 (Conv2D)       (None, 28, 28, 512)       2359808   \n",
      "                                                                 \n",
      " block4_conv3 (Conv2D)       (None, 28, 28, 512)       2359808   \n",
      "                                                                 \n",
      " block4_pool (MaxPooling2D)  (None, 14, 14, 512)       0         \n",
      "                                                                 \n",
      " block5_conv1 (Conv2D)       (None, 14, 14, 512)       2359808   \n",
      "                                                                 \n",
      " block5_conv2 (Conv2D)       (None, 14, 14, 512)       2359808   \n",
      "                                                                 \n",
      " block5_conv3 (Conv2D)       (None, 14, 14, 512)       2359808   \n",
      "                                                                 \n",
      " block5_pool (MaxPooling2D)  (None, 7, 7, 512)         0         \n",
      "                                                                 \n",
      " flatten (Flatten)           (None, 25088)             0         \n",
      "                                                                 \n",
      " dense (Dense)               (None, 128)               3211392   \n",
      "                                                                 \n",
      " dense_1 (Dense)             (None, 64)                8256      \n",
      "                                                                 \n",
      " dense_2 (Dense)             (None, 32)                2080      \n",
      "                                                                 \n",
      " dense_3 (Dense)             (None, 4)                 132       \n",
      "                                                                 \n",
      "=================================================================\n",
      "Total params: 17,936,548\n",
      "Trainable params: 3,221,860\n",
      "Non-trainable params: 14,714,688\n",
      "_________________________________________________________________\n",
      "None\n"
     ]
    }
   ],
   "source": [
    "#initialize optimizer\n",
    "opt = Adam(learning_rate=INIT_LR)\n",
    "model.compile(loss=\"mse\", optimizer=opt)\n",
    "print(model.summary())"
   ]
  },
  {
   "cell_type": "code",
   "execution_count": 10,
   "metadata": {},
   "outputs": [
    {
     "name": "stdout",
     "output_type": "stream",
     "text": [
      "[INFO] Training the model\n",
      "Epoch 1/5\n",
      "139/139 [==============================] - 1254s 9s/step - loss: 0.0208 - val_loss: 0.0126\n",
      "Epoch 2/5\n",
      "139/139 [==============================] - 1280s 9s/step - loss: 0.0095 - val_loss: 0.0110\n",
      "Epoch 3/5\n",
      "139/139 [==============================] - 1272s 9s/step - loss: 0.0073 - val_loss: 0.0114\n",
      "Epoch 4/5\n",
      "139/139 [==============================] - 1262s 9s/step - loss: 0.0060 - val_loss: 0.0112\n",
      "Epoch 5/5\n",
      "139/139 [==============================] - 1264s 9s/step - loss: 0.0049 - val_loss: 0.0107\n"
     ]
    }
   ],
   "source": [
    "#train network\n",
    "print(\"[INFO] Training the model\")\n",
    "H = model.fit(\n",
    "    trainImages, trainTargets,\n",
    "    validation_data=(testImages, testTargets),\n",
    "    batch_size=BATCH_SIZE,\n",
    "    epochs=NUM_EPOCHS,\n",
    "    verbose=1)"
   ]
  },
  {
   "cell_type": "code",
   "execution_count": 11,
   "metadata": {},
   "outputs": [
    {
     "name": "stdout",
     "output_type": "stream",
     "text": [
      "[INFO] saving object detector model...\n"
     ]
    }
   ],
   "source": [
    "# serialize the model to disk\n",
    "print(\"[INFO] saving object detector model...\")\n",
    "model.save(MODEL_PATH, save_format=\"h5\")"
   ]
  },
  {
   "cell_type": "code",
   "execution_count": 12,
   "metadata": {},
   "outputs": [
    {
     "data": {
      "image/png": "[encoded data removed]",
      "text/plain": [
       "<Figure size 432x288 with 1 Axes>"
      ]
     },
     "metadata": {
      "needs_background": "light"
     },
     "output_type": "display_data"
    },
    {
     "ename": "",
     "evalue": "",
     "output_type": "error",
     "traceback": [
      "\u001b[1;31mThe Kernel crashed while executing code in the the current cell or a previous cell. Please review the code in the cell(s) to identify a possible cause of the failure. Click <a href='https://aka.ms/vscodeJupyterKernelCrash'>here</a> for more info. View Jupyter <a href='command:jupyter.viewOutput'>log</a> for further details."
     ]
    }
   ],
   "source": [
    "N = NUM_EPOCHS\n",
    "plt.style.use(\"ggplot\")\n",
    "plt.figure()\n",
    "plt.plot(np.arange(0, N), H.history[\"loss\"], label=\"train_loss\")\n",
    "plt.plot(np.arange(0, N), H.history[\"val_loss\"], label=\"val_loss\")\n",
    "plt.title(\"Bounding Box Regression Loss on Training Set\")\n",
    "plt.xlabel(\"Epoch #\")\n",
    "plt.ylabel(\"Loss\")\n",
    "plt.legend(loc=\"lower left\")\n",
    "plt.savefig(PLOT_PATH)"
   ]
  }
 ],
 "metadata": {
  "kernelspec": {
   "display_name": "Python 3.10.4 64-bit",
   "language": "python",
   "name": "python3"
  },
  "language_info": {
   "codemirror_mode": {
    "name": "ipython",
    "version": 3
   },
   "file_extension": ".py",
   "mimetype": "text/x-python",
   "name": "python",
   "nbconvert_exporter": "python",
   "pygments_lexer": "ipython3",
   "version": "3.10.4"
  },
  "vscode": {
   "interpreter": {
    "hash": "e7370f93d1d0cde622a1f8e1c04877d8463912d04d973331ad4851f04de6915a"
   }
  }
 },
 "nbformat": 4,
 "nbformat_minor": 2
}
