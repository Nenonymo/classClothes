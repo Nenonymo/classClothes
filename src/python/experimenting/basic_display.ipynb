{
 "cells": [
  {
   "cell_type": "markdown",
   "metadata": {},
   "source": [
    "# Pick a random image from a random json-file."
   ]
  },
  {
   "cell_type": "markdown",
   "metadata": {},
   "source": [
    "TODO:\n",
    "  - Some images can not be found\n",
    "      - such as datasets/blaus_DF/ and datasets/top_DF/"
   ]
  },
  {
   "cell_type": "code",
   "execution_count": 8,
   "metadata": {},
   "outputs": [
    {
     "name": "stdout",
     "output_type": "stream",
     "text": [
      "File: MIROA_Hauts_top_DF_complet_retravailJBN.json\n",
      "Image: top_DF/Abstract_Cutout-Back_Top/img_00000027.jpg\n",
      "Trying to find the file in /datasets/dataset/\n",
      "Image top_DF/Abstract_Cutout-Back_Top/img_00000027.jpg not found\n",
      "\n",
      "Segmentation of clothing: [[34, 248, 448, 248, 448, 626, 34, 626]]\n"
     ]
    }
   ],
   "source": [
    "# Choose a random file\n",
    "import os, random\n",
    "import json\n",
    "from IPython.display import Image, display\n",
    "\n",
    "path_json = \"..\\\\..\\\\..\\\\data\\\\Datasets_Enhancy\\\\Annotation\"\n",
    "path_images = \"..\\\\..\\\\..\\\\data\\\\Datasets_Enhancy\\\\datasets\"\n",
    "file = random.choice(os.listdir(path_json))\n",
    "path = path_json + \"\\\\\" + file\n",
    "\n",
    "print(f\"File: {file}\")\n",
    "\n",
    "# Select random image\n",
    "with open(path, 'r') as f:\n",
    "    data_json = json.load(f)\n",
    "count = len(data_json['annotations'])\n",
    "json_obj = data_json['annotations'][random.randrange(count)]\n",
    "image_name = json_obj['image_id']\n",
    "image_seg = json_obj['segmentation']\n",
    "print(f\"Image: {image_name}\")\n",
    "\n",
    "# Try to find the image\n",
    "data_image = path_images + \"\\\\\" + image_name\n",
    "if not os.path.isfile(data_image):\n",
    "    print('Trying to find the file in /datasets/dataset/')\n",
    "    data_image = path_images + \"\\\\dataset\\\\\" + image_name\n",
    "    if not os.path.isfile(data_image):\n",
    "        print(f'Image {image_name} not found')\n",
    "        data_image = None\n",
    "\n",
    "# Display image\n",
    "print(f'\\nSegmentation of clothing: {image_seg}')\n",
    "if data_image is not None:\n",
    "    display(Image(filename=data_image))\n"
   ]
  },
  {
   "cell_type": "code",
   "execution_count": null,
   "metadata": {},
   "outputs": [],
   "source": []
  },
  {
   "cell_type": "code",
   "execution_count": null,
   "metadata": {},
   "outputs": [],
   "source": []
  }
 ],
 "metadata": {
  "kernelspec": {
   "display_name": "Python 3",
   "language": "python",
   "name": "python3"
  },
  "language_info": {
   "codemirror_mode": {
    "name": "ipython",
    "version": 3
   },
   "file_extension": ".py",
   "mimetype": "text/x-python",
   "name": "python",
   "nbconvert_exporter": "python",
   "pygments_lexer": "ipython3",
   "version": "3.7.4"
  }
 },
 "nbformat": 4,
 "nbformat_minor": 2
}
